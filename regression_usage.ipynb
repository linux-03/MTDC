{
 "cells": [
  {
   "cell_type": "code",
   "execution_count": 1,
   "metadata": {},
   "outputs": [],
   "source": [
    "import Data\n",
    "import regression\n",
    "import dclassifier\n",
    "import numpy as np\n",
    "import pandas as pd\n"
   ]
  },
  {
   "cell_type": "code",
   "execution_count": 2,
   "metadata": {},
   "outputs": [],
   "source": [
    "\n",
    "training_months = [pd.Period('2019-04', 'M'), pd.Period('2019-05', 'M'), pd.Period('2019-06', 'M'), pd.Period('2019-07', 'M')]\n",
    "\n",
    "data = Data.Data()\n",
    "\n",
    "prices = data.prices\n",
    "prices = prices[prices.index.to_period('M').isin(training_months)]\n"
   ]
  },
  {
   "cell_type": "code",
   "execution_count": 4,
   "metadata": {},
   "outputs": [],
   "source": [
    "thresholds = np.arange(0.0001, 0.0020, 0.0001)\n",
    "currencies = prices.columns\n",
    "\n",
    "# remove AUDUSD, because it frequently creates a regression expression that doesn't have DCl\n",
    "currencies = [curr for curr in currencies if curr != 'AUDUSD']\n",
    "\n",
    "combinations = [(threshold, currency) for threshold in thresholds for currency in currencies]\n",
    "\n",
    "losses = {}\n",
    "best_individual = {}\n",
    "for combination in combinations:\n",
    "    threshold, currency = combination\n",
    "\n",
    "    events, dcclass = dclassifier.classify_split_timeseries(prices[currency], threshold)\n",
    "    DCs_with_OSs = [(a['end'] - a['start'], b['start'] - a['end']) for (_, a), (_, b) in zip(events.iloc[:-1].iterrows(), events.iloc[1:].iterrows()) if b['prev_os']]\n",
    "\n",
    "    loss, individual = regression.SRGP(DCs_with_OSs)\n",
    "\n",
    "    best_individual[combination] = individual\n",
    "    losses[combination] = loss"
   ]
  },
  {
   "cell_type": "code",
   "execution_count": 21,
   "metadata": {},
   "outputs": [],
   "source": [
    "def print_node(node):\n",
    "    string = ''\n",
    "    if node.val:\n",
    "        string += (node.val if isinstance(node.val, str) else str(round(node.val, 3)))\n",
    "    if len(node.children):\n",
    "        string += f\" ({' , '.join([print_node(child) for child in node.children])})\"\n",
    "    return string\n"
   ]
  },
  {
   "cell_type": "code",
   "execution_count": 22,
   "metadata": {},
   "outputs": [
    {
     "data": {
      "text/plain": [
       "'+ (sin (sin (-6.147)) , log (- (DCl , -9.602)))'"
      ]
     },
     "execution_count": 22,
     "metadata": {},
     "output_type": "execute_result"
    }
   ],
   "source": [
    "combination_best_loss = min(losses, key=losses.get)\n",
    "best = best_individual[combination_best_loss]\n",
    "print_node(best)"
   ]
  },
  {
   "cell_type": "code",
   "execution_count": 23,
   "metadata": {},
   "outputs": [
    {
     "data": {
      "text/plain": [
       "3.11111968728486"
      ]
     },
     "execution_count": 23,
     "metadata": {},
     "output_type": "execute_result"
    }
   ],
   "source": [
    "example_dcl = 10\n",
    "regression.eval_tree(best, example_dcl)"
   ]
  },
  {
   "cell_type": "code",
   "execution_count": 33,
   "metadata": {},
   "outputs": [
    {
     "name": "stdout",
     "output_type": "stream",
     "text": [
      "currency: EURCHF, threshold: 0.0001, loss:  2.641, expression: log (+ (* (-7.806 , -2.28) , * (DCl , DCl)))\n",
      "currency: EURJPY, threshold: 0.0001, loss:  1.993, expression: + (sin (sin (-6.147)) , log (- (DCl , -9.602)))\n",
      "currency: EURUSD, threshold: 0.0001, loss:  2.442, expression: log (- (+ (DCl , 4.528) , + (-4.837 , -6.922)))\n",
      "currency: USDCAD, threshold: 0.0001, loss:  2.384, expression: + (log (6.999) , cos (/ (-0.634 , DCl)))\n",
      "currency: USDCHF, threshold: 0.0001, loss:  2.321, expression: log (- (* (-0.855 , -7.998) , * (-7.998 , DCl)))\n",
      "currency: USDJPY, threshold: 0.0001, loss:  2.140, expression: log (+ (* (DCl , DCl) , - (6.308 , -4.803)))\n",
      "currency: EURCHF, threshold: 0.0002, loss:  4.128, expression: 4.238\n",
      "currency: EURJPY, threshold: 0.0002, loss:  2.875, expression: - (log (* (DCl , 7.589)) , - (+ (-5.44 , 3.852) , / (DCl , -2.495)))\n",
      "currency: EURUSD, threshold: 0.0002, loss:  3.794, expression: log (+ (* (6.746 , 6.746) , * (DCl , DCl)))\n",
      "currency: USDCAD, threshold: 0.0002, loss:  3.750, expression: + (/ (sin (DCl) , - (-0.763 , DCl)) , 4.287)\n",
      "currency: USDCHF, threshold: 0.0002, loss:  3.742, expression: + (sin (- (-2.644 , -9.713)) , - (3.747 , sin (DCl)))\n",
      "currency: USDJPY, threshold: 0.0002, loss:  3.431, expression: - (/ (cos (DCl) , * (DCl , -3.002)) , -3.879)\n",
      "currency: EURCHF, threshold: 0.0003, loss:  6.101, expression: 5.697\n",
      "currency: EURJPY, threshold: 0.0003, loss:  4.326, expression: 4.782\n",
      "currency: EURUSD, threshold: 0.0003, loss:  5.550, expression: + (* (log (5.291) , log (DCl)) , - (* (8.183 , 0.696) , log (5.291)))\n",
      "currency: USDCAD, threshold: 0.0003, loss:  5.129, expression: log (* (* (9.346 , DCl) , - (5.871 , -5.935)))\n",
      "currency: USDCHF, threshold: 0.0003, loss:  5.107, expression: - (+ (log (DCl) , 5.687) , 1.422)\n",
      "currency: USDJPY, threshold: 0.0003, loss:  5.402, expression: + (/ (* (DCl , DCl) , + (DCl , DCl)) , / (* (8.547 , DCl) , + (DCl , DCl)))\n",
      "currency: EURCHF, threshold: 0.0004, loss:  7.979, expression: + (- (log (DCl) , - (-0.422 , 6.685)) , sin (- (6.685 , DCl)))\n",
      "currency: EURJPY, threshold: 0.0004, loss:  5.547, expression: + (5.446 , log (DCl))\n",
      "currency: EURUSD, threshold: 0.0004, loss:  7.383, expression: - (+ (+ (1.755 , DCl) , / (-7.163 , DCl)) , * (/ (DCl , DCl) , - (DCl , 9.735)))\n",
      "currency: USDCAD, threshold: 0.0004, loss:  6.943, expression: + (log (* (DCl , 9.303)) , log (* (9.303 , 4.25)))\n",
      "currency: USDCHF, threshold: 0.0004, loss:  6.180, expression: + (* (log (DCl) , log (5.572)) , * (log (8.74) , log (9.042)))\n",
      "currency: USDJPY, threshold: 0.0004, loss:  7.048, expression: - (+ (log (DCl) , * (6.346 , 1.315)) , log (* (6.346 , 2.158)))\n",
      "currency: EURCHF, threshold: 0.0005, loss: 10.546, expression: + (log (+ (DCl , -2.8)) , + (+ (4.682 , 3.778) , log (DCl)))\n",
      "currency: EURJPY, threshold: 0.0005, loss:  6.798, expression: - (7.34 , * (-0.358 , / (-3.342 , DCl)))\n",
      "currency: EURUSD, threshold: 0.0005, loss:  9.427, expression: 8.825\n",
      "currency: USDCAD, threshold: 0.0005, loss:  9.182, expression: - (cos (+ (DCl , 8.068)) , / (+ (-0.185 , 8.068) , sin (-1.13)))\n",
      "currency: USDCHF, threshold: 0.0005, loss:  8.697, expression: + (* (+ (5.336 , DCl) , log (1.093)) , + (/ (DCl , -1.862) , + (5.336 , DCl)))\n",
      "currency: USDJPY, threshold: 0.0005, loss:  8.818, expression: - (/ (-5.444 , cos (8.699)) , log (cos (DCl)))\n",
      "currency: EURCHF, threshold: 0.0006, loss: 11.812, expression: + (log (+ (DCl , -3.409)) , + (+ (1.544 , 7.628) , log (DCl)))\n",
      "currency: EURJPY, threshold: 0.0006, loss:  9.071, expression: - (log (* (9.297 , DCl)) , + (- (-1.756 , 3.598) , sin (9.297)))\n",
      "currency: EURUSD, threshold: 0.0006, loss: 11.285, expression: + (log (log (DCl)) , + (8.571 , log (DCl)))\n",
      "currency: USDCAD, threshold: 0.0006, loss: 11.511, expression: - (log (+ (DCl , -0.826)) , - (- (-4.684 , 3.945) , log (DCl)))\n",
      "currency: USDCHF, threshold: 0.0006, loss: 10.209, expression: - (+ (+ (6.38 , DCl) , sin (DCl)) , log (+ (DCl , DCl)))\n",
      "currency: USDJPY, threshold: 0.0006, loss: 10.585, expression: - (* (* (1.247 , 1.247) , DCl) , + (+ (DCl , -3.038) , * (-3.038 , 1.247)))\n",
      "currency: EURCHF, threshold: 0.0007, loss: 13.877, expression: + (+ (log (DCl) , / (DCl , 5.543)) , + (log (8.837) , + (5.543 , 2.497)))\n",
      "currency: EURJPY, threshold: 0.0007, loss: 12.136, expression: + (8.005 , log (* (DCl , DCl)))\n",
      "currency: EURUSD, threshold: 0.0007, loss: 13.584, expression: + (log (+ (DCl , -1.829)) , - (log (4.841) , + (-8.153 , -1.481)))\n",
      "currency: USDCAD, threshold: 0.0007, loss: 14.439, expression: * (sin (cos (1.822)) , - (/ (3.136 , DCl) , * (7.098 , 7.228)))\n",
      "currency: USDCHF, threshold: 0.0007, loss: 11.973, expression: + (7.837 , + (log (DCl) , log (DCl)))\n",
      "currency: USDJPY, threshold: 0.0007, loss: 12.984, expression: + (* (sin (8.969) , + (3.083 , DCl)) , + (/ (-6.321 , 8.969) , 7.79))\n",
      "currency: EURCHF, threshold: 0.0008, loss: 17.807, expression: + (+ (+ (6.912 , 1.112) , log (DCl)) , + (+ (6.912 , -2.125) , log (DCl)))\n",
      "currency: EURJPY, threshold: 0.0008, loss: 14.395, expression: + (log (* (DCl , DCl)) , + (* (-0.546 , -9.807) , 3.708))\n",
      "currency: EURUSD, threshold: 0.0008, loss: 18.043, expression: - (+ (cos (DCl) , / (-2.777 , DCl)) , - (+ (-8.399 , 3.583) , + (3.583 , 6.678)))\n",
      "currency: USDCAD, threshold: 0.0008, loss: 17.488, expression: + (+ (8.856 , -0.425) , 6.151)\n",
      "currency: USDCHF, threshold: 0.0008, loss: 13.800, expression: - (- (/ (-2.581 , DCl) , * (-5.981 , 2.149)) , log (sin (DCl)))\n",
      "currency: USDJPY, threshold: 0.0008, loss: 14.467, expression: - (- (- (8.289 , -1.147) , sin (DCl)) , - (sin (-1.147) , log (8.289)))\n",
      "currency: EURCHF, threshold: 0.0009, loss: 20.872, expression: + (* (log (DCl) , * (-1.085 , -8.356)) , / (+ (6.899 , 6.899) , DCl))\n",
      "currency: EURJPY, threshold: 0.0009, loss: 14.893, expression: + (+ (log (DCl) , + (6.419 , -1.592)) , + (log (DCl) , + (6.419 , -1.592)))\n",
      "currency: EURUSD, threshold: 0.0009, loss: 21.104, expression: - (+ (- (9.281 , -9.138) , cos (DCl)) , sin (* (DCl , 0.6)))\n",
      "currency: USDCAD, threshold: 0.0009, loss: 20.091, expression: - (- (cos (DCl) , - (-6.912 , 9.817)) , log (cos (DCl)))\n",
      "currency: USDCHF, threshold: 0.0009, loss: 17.551, expression: * (sin (- (0.705 , -7.243)) , - (/ (DCl , 3.594) , - (-5.509 , 6.49)))\n",
      "currency: USDJPY, threshold: 0.0009, loss: 19.539, expression: - (- (- (3.562 , -3.289) , + (-2.031 , -7.434)) , + (/ (6.018 , DCl) , cos (DCl)))\n",
      "currency: EURCHF, threshold: 0.0010, loss: 24.203, expression: + (log (+ (-2.912 , DCl)) , + (log (DCl) , + (8.795 , 9.901)))\n",
      "currency: EURJPY, threshold: 0.0010, loss: 16.428, expression: + (/ (* (-9.758 , 0.815) , DCl) , - (* (8.053 , 0.815) , - (-1.641 , 8.053)))\n",
      "currency: EURUSD, threshold: 0.0010, loss: 26.529, expression: + (+ (sin (DCl) , 9.06) , + (log (8.524) , 9.06))\n",
      "currency: USDCAD, threshold: 0.0010, loss: 22.323, expression: - (- (- (8.551 , 6.372) , + (-9.898 , -7.711)) , sin (+ (DCl , DCl)))\n",
      "currency: USDCHF, threshold: 0.0010, loss: 20.326, expression: + (log (* (DCl , DCl)) , - (log (DCl) , + (-8.625 , -2.58)))\n",
      "currency: USDJPY, threshold: 0.0010, loss: 22.553, expression: + (+ (/ (-5.08 , DCl) , 9.025) , + (cos (DCl) , 9.025))\n",
      "currency: EURCHF, threshold: 0.0011, loss: 26.528, expression: + (+ (* (6.182 , 3.447) , sin (DCl)) , + (sin (DCl) , / (DCl , 4.282)))\n",
      "currency: EURJPY, threshold: 0.0011, loss: 18.765, expression: - (- (9.663 , sin (DCl)) , - (+ (-4.524 , -4.524) , / (-6.858 , DCl)))\n",
      "currency: EURUSD, threshold: 0.0011, loss: 29.174, expression: + (+ (/ (-6.744 , DCl) , * (-5.157 , -5.193)) , * (log (DCl) , sin (DCl)))\n",
      "currency: USDCAD, threshold: 0.0011, loss: 25.264, expression: + (* (* (-4.266 , 9.584) , sin (-2.524)) , log (cos (DCl)))\n",
      "currency: USDCHF, threshold: 0.0011, loss: 21.996, expression: - (- (7.041 , * (-0.134 , DCl)) , + (sin (DCl) , - (-6.688 , 2.904)))\n",
      "currency: USDJPY, threshold: 0.0011, loss: 24.478, expression: + (+ (- (DCl , -8.95) , * (-0.513 , DCl)) , 6.705)\n",
      "currency: EURCHF, threshold: 0.0012, loss: 37.399, expression: - (sin (* (DCl , -3.422)) , * (* (4.36 , -3.422) , log (6.842)))\n",
      "currency: EURJPY, threshold: 0.0012, loss: 20.511, expression: + (- (log (DCl) , - (-5.269 , 8.157)) , / (+ (DCl , -0.543) , log (DCl)))\n",
      "currency: EURUSD, threshold: 0.0012, loss: 30.636, expression: + (- (sin (DCl) , - (-7.437 , 7.459)) , - (/ (-8.655 , DCl) , + (-7.437 , -6.333)))\n",
      "currency: USDCAD, threshold: 0.0012, loss: 28.302, expression: + (- (sin (DCl) , - (-9.247 , 7.496)) , - (sin (DCl) , - (-9.247 , 0.075)))\n",
      "currency: USDCHF, threshold: 0.0012, loss: 27.007, expression: - (+ (* (3.438 , 3.734) , 7.945) , sin (* (DCl , 3.734)))\n",
      "currency: USDJPY, threshold: 0.0012, loss: 26.543, expression: + (* (log (DCl) , + (-2.34 , 6.628)) , + (+ (6.882 , 6.628) , cos (DCl)))\n",
      "currency: EURCHF, threshold: 0.0013, loss: 39.894, expression: + (+ (+ (9.837 , 9.837) , cos (DCl)) , + (cos (DCl) , + (7.37 , 3.823)))\n",
      "currency: EURJPY, threshold: 0.0013, loss: 23.837, expression: - (sin (- (-0.402 , DCl)) , - (* (-2.616 , 7.648) , log (DCl)))\n",
      "currency: EURUSD, threshold: 0.0013, loss: 35.016, expression: + (* (log (DCl) , 6.433) , + (sin (DCl) , * (-3.702 , -4.51)))\n",
      "currency: USDCAD, threshold: 0.0013, loss: 35.404, expression: + (log (cos (DCl)) , - (* (8.215 , 4.247) , / (8.449 , DCl)))\n",
      "currency: USDCHF, threshold: 0.0013, loss: 29.634, expression: + (+ (9.623 , 9.623) , * (log (DCl) , log (DCl)))\n",
      "currency: USDJPY, threshold: 0.0013, loss: 30.933, expression: - (log (- (DCl , 3.563)) , * (* (3.563 , 9.87) , cos (-2.315)))\n",
      "currency: EURCHF, threshold: 0.0014, loss: 47.708, expression: + (* (log (4.601) , - (4.601 , -8.3)) , + (* (-1.118 , -2.089) , - (7.575 , -8.3)))\n",
      "currency: EURJPY, threshold: 0.0014, loss: 29.119, expression: + (* (cos (7.459) , + (-4.862 , DCl)) , + (* (-4.844 , -4.844) , cos (-0.808)))\n",
      "currency: EURUSD, threshold: 0.0014, loss: 36.260, expression: * (/ (log (8.939) , sin (-3.784)) , 9.052)\n",
      "currency: USDCAD, threshold: 0.0014, loss: 40.690, expression: + (/ (* (DCl , -5.923) , / (DCl , -6.854)) , * (/ (DCl , -3.059) , / (DCl , DCl)))\n",
      "currency: USDCHF, threshold: 0.0014, loss: 36.298, expression: + (- (cos (DCl) , + (0.063 , -8.925)) , - (cos (DCl) , + (-8.925 , -8.925)))\n",
      "currency: USDJPY, threshold: 0.0014, loss: 36.501, expression: + (- (/ (DCl , 2.771) , - (-9.973 , 9.867)) , / (sin (5.474) , sin (DCl)))\n",
      "currency: EURCHF, threshold: 0.0015, loss: 50.363, expression: - (+ (* (DCl , 0.873) , log (DCl)) , - (+ (DCl , 8.011) , * (-7.177 , -6.645)))\n",
      "currency: EURJPY, threshold: 0.0015, loss: 31.912, expression: + (+ (sin (DCl) , / (DCl , 5.985)) , + (- (6.676 , -2.279) , / (9.599 , 0.574)))\n",
      "currency: EURUSD, threshold: 0.0015, loss: 39.481, expression: - (cos (* (DCl , DCl)) , * (sin (-7.878) , * (-8.76 , -4.255)))\n",
      "currency: USDCAD, threshold: 0.0015, loss: 47.351, expression: + (- (/ (DCl , -5.702) , * (3.059 , -7.796)) , - (/ (DCl , -5.702) , * (3.059 , -7.796)))\n",
      "currency: USDCHF, threshold: 0.0015, loss: 37.925, expression: - (- (cos (DCl) , -8.407) , - (* (-2.085 , 9.1) , log (DCl)))\n",
      "currency: USDJPY, threshold: 0.0015, loss: 47.496, expression: - (/ (DCl , 6.507) , * (6.507 , -5.024))\n",
      "currency: EURCHF, threshold: 0.0016, loss: 51.547, expression: + (+ (/ (DCl , -4.114) , * (4.394 , 5.494)) , + (/ (-5.928 , DCl) , * (4.394 , 5.494)))\n",
      "currency: EURJPY, threshold: 0.0016, loss: 33.270, expression: + (- (cos (DCl) , * (-5.083 , 5.523)) , sin (/ (DCl , 5.523)))\n",
      "currency: EURUSD, threshold: 0.0016, loss: 48.230, expression: + (+ (+ (9.557 , 6.139) , + (8.193 , 1.397)) , - (+ (8.193 , 8.193) , cos (DCl)))\n",
      "currency: USDCAD, threshold: 0.0016, loss: 48.658, expression: + (* (/ (7.291 , DCl) , 4.975) , * (6.186 , 6.186))\n",
      "currency: USDCHF, threshold: 0.0016, loss: 39.911, expression: + (* (+ (4.686 , 9.188) , log (9.188)) , * (+ (4.686 , 4.686) , cos (DCl)))\n",
      "currency: USDJPY, threshold: 0.0016, loss: 48.846, expression: - (+ (log (DCl) , * (-6.446 , -8.277)) , + (/ (9.695 , DCl) , - (9.695 , -6.446)))\n",
      "currency: EURCHF, threshold: 0.0017, loss: 56.692, expression: + (* (/ (7.077 , 1.017) , / (6.311 , 1.017)) , cos (* (7.077 , DCl)))\n",
      "currency: EURJPY, threshold: 0.0017, loss: 35.485, expression: + (+ (* (9.38 , 2.554) , cos (DCl)) , - (cos (DCl) , - (2.21 , 9.38)))\n",
      "currency: EURUSD, threshold: 0.0017, loss: 58.201, expression: + (- (+ (9.769 , 5.958) , * (5.958 , -2.143)) , - (+ (9.769 , 9.769) , / (9.769 , DCl)))\n",
      "currency: USDCAD, threshold: 0.0017, loss: 53.563, expression: - (* (/ (9.81 , DCl) , - (DCl , -3.836)) , - (cos (DCl) , * (-3.836 , -9.886)))\n",
      "currency: USDCHF, threshold: 0.0017, loss: 41.543, expression: - (* (+ (-8.632 , -4.104) , + (-3.324 , 0.727)) , * (+ (-3.324 , -4.104) , cos (DCl)))\n",
      "currency: USDJPY, threshold: 0.0017, loss: 51.550, expression: - (+ (log (DCl) , sin (DCl)) , + (* (-8.656 , 2.694) , * (-2.798 , 5.293)))\n",
      "currency: EURCHF, threshold: 0.0018, loss: 58.363, expression: - (/ (* (DCl , -6.914) , / (DCl , -7.732)) , * (log (DCl) , sin (DCl)))\n",
      "currency: EURJPY, threshold: 0.0018, loss: 40.699, expression: + (- (/ (-1.792 , -0.083) , + (-5.777 , -7.965)) , sin (- (-5.283 , DCl)))\n",
      "currency: EURUSD, threshold: 0.0018, loss: 65.183, expression: + (* (- (9.715 , -8.099) , log (9.715)) , - (- (8.372 , -1.909) , log (DCl)))\n",
      "currency: USDCAD, threshold: 0.0018, loss: 56.702, expression: + (* (/ (6.68 , DCl) , / (6.68 , DCl)) , + (* (5.637 , 6.68) , - (9.566 , -8.081)))\n",
      "currency: USDCHF, threshold: 0.0018, loss: 42.791, expression: + (+ (cos (DCl) , * (-4.546 , -5.752)) , * (- (6.543 , 2.937) , log (DCl)))\n",
      "currency: USDJPY, threshold: 0.0018, loss: 54.872, expression: * (cos (cos (9.209)) , + (- (DCl , -6.53) , * (-7.433 , -6.53)))\n",
      "currency: EURCHF, threshold: 0.0019, loss: 63.424, expression: + (- (/ (DCl , -9.679) , * (-8.752 , 6.475)) , sin (* (4.115 , DCl)))\n",
      "currency: EURJPY, threshold: 0.0019, loss: 44.564, expression: - (+ (log (DCl) , + (7.11 , 8.875)) , + (- (-8.132 , 8.22) , -5.99))\n",
      "currency: EURUSD, threshold: 0.0019, loss: 69.683, expression: - (- (log (DCl) , / (DCl , 2.477)) , - (/ (6.238 , DCl) , / (5.167 , 0.083)))\n",
      "currency: USDCAD, threshold: 0.0019, loss: 63.121, expression: - (/ (log (DCl) , + (8.416 , -8.594)) , - (* (9.221 , -8.594) , -2.774))\n",
      "currency: USDCHF, threshold: 0.0019, loss: 48.298, expression: + (* (log (9.679) , + (9.679 , 5.774)) , log (* (DCl , DCl)))\n",
      "currency: USDJPY, threshold: 0.0019, loss: 57.961, expression: - (+ (/ (1.827 , DCl) , * (-5.002 , -7.2)) , * (/ (-1.312 , 4.92) , + (DCl , DCl)))\n"
     ]
    }
   ],
   "source": [
    "for combination in combinations:\n",
    "    threshold, currency = combination\n",
    "    print(f'currency: {currency}, threshold: {threshold:.4f}, loss: {losses[combination]:6.3f}, expression: {print_node(best_individual[combination])}')"
   ]
  }
 ],
 "metadata": {
  "kernelspec": {
   "display_name": "Python 3",
   "language": "python",
   "name": "python3"
  },
  "language_info": {
   "codemirror_mode": {
    "name": "ipython",
    "version": 3
   },
   "file_extension": ".py",
   "mimetype": "text/x-python",
   "name": "python",
   "nbconvert_exporter": "python",
   "pygments_lexer": "ipython3",
   "version": "3.10.12"
  }
 },
 "nbformat": 4,
 "nbformat_minor": 2
}
