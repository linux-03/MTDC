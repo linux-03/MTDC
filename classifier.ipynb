{
 "cells": [
  {
   "cell_type": "code",
   "execution_count": 1,
   "metadata": {},
   "outputs": [],
   "source": [
    "import Data\n",
    "import dclassifier\n",
    "import pandas as pd\n",
    "from sklearn.model_selection import train_test_split\n",
    "from sklearn.metrics import classification_report, accuracy_score\n",
    "from tpot import TPOTClassifier"
   ]
  },
  {
   "cell_type": "code",
   "execution_count": 12,
   "metadata": {},
   "outputs": [],
   "source": [
    "# TODO: At the moment just one month and one currency, will be expanded later\n",
    "data = Data.Data()\n",
    "prices = data.prices[data.prices.index.to_period('M') == '2020-02']\n",
    "X, y = dclassifier.classify_split_timeseries(prices['USDCHF'], 0.001)\n",
    "\n",
    "# Split the data into training and testing sets\n",
    "X_train, X_test, y_train, y_test = train_test_split(X, y, test_size=0.3, random_state=42)"
   ]
  },
  {
   "cell_type": "code",
   "execution_count": 3,
   "metadata": {},
   "outputs": [
    {
     "data": {
      "application/vnd.jupyter.widget-view+json": {
       "model_id": "b91809f4c57244d585f9685c37cabb15",
       "version_major": 2,
       "version_minor": 0
      },
      "text/plain": [
       "Optimization Progress:   0%|          | 0/10 [00:00<?, ?pipeline/s]"
      ]
     },
     "metadata": {},
     "output_type": "display_data"
    },
    {
     "name": "stdout",
     "output_type": "stream",
     "text": [
      "\n",
      "Generation 1 - Current best internal CV score: 1.0\n",
      "\n",
      "Generation 2 - Current best internal CV score: 1.0\n",
      "\n",
      "Best pipeline: GaussianNB(input_matrix)\n",
      "Imputing missing values in feature set\n",
      "Classification Report:\n",
      "              precision    recall  f1-score   support\n",
      "\n",
      "           0       1.00      1.00      1.00        39\n",
      "\n",
      "    accuracy                           1.00        39\n",
      "   macro avg       1.00      1.00      1.00        39\n",
      "weighted avg       1.00      1.00      1.00        39\n",
      "\n",
      "Accuracy Score: 1.0\n"
     ]
    },
    {
     "name": "stderr",
     "output_type": "stream",
     "text": [
      "c:\\Users\\a-Paul\\anaconda3\\Lib\\site-packages\\sklearn\\base.py:493: UserWarning: X does not have valid feature names, but GaussianNB was fitted with feature names\n",
      "  warnings.warn(\n"
     ]
    }
   ],
   "source": [
    "# Use TPOT for AutoML\n",
    "tpot = TPOTClassifier(generations=2, population_size=10, verbosity=2, random_state=42, max_time_mins=5, max_eval_time_mins=1)\n",
    "tpot.fit(X_train, y_train)\n",
    "\n",
    "# Make predictions\n",
    "y_pred = tpot.predict(X_test)\n",
    "\n",
    "# Evaluate the model\n",
    "print(\"Classification Report:\")\n",
    "print(classification_report(y_test, y_pred))\n",
    "print(\"Accuracy Score:\", accuracy_score(y_test, y_pred))"
   ]
  },
  {
   "cell_type": "code",
   "execution_count": 16,
   "metadata": {},
   "outputs": [
    {
     "name": "stdout",
     "output_type": "stream",
     "text": [
      "Model exported to: ./models/test_2.py\n"
     ]
    }
   ],
   "source": [
    "import os\n",
    "\n",
    "# Export the best pipeline \n",
    "model_dir = \"./models/\"\n",
    "model_name = \"test.py\"\n",
    "\n",
    "base_name, extension = os.path.splitext(model_name)\n",
    "counter = 1\n",
    "new_model_name = model_name\n",
    "\n",
    "while os.path.exists(os.path.join(model_dir, new_model_name)):\n",
    "    new_model_name = f\"{base_name}_{counter}{extension}\"\n",
    "    counter += 1\n",
    "\n",
    "\n",
    "# Export the model to the new filename\n",
    "tpot.export(os.path.join(model_dir, new_model_name))\n",
    "\n",
    "print(f\"Model exported to: {os.path.join(model_dir, new_model_name)}\")\n",
    "\n",
    "tpot.export(model_dir+model_name)"
   ]
  }
 ],
 "metadata": {
  "kernelspec": {
   "display_name": "Python 3",
   "language": "python",
   "name": "python3"
  },
  "language_info": {
   "codemirror_mode": {
    "name": "ipython",
    "version": 3
   },
   "file_extension": ".py",
   "mimetype": "text/x-python",
   "name": "python",
   "nbconvert_exporter": "python",
   "pygments_lexer": "ipython3",
   "version": "3.11.4"
  }
 },
 "nbformat": 4,
 "nbformat_minor": 2
}
