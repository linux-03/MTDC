{
 "cells": [
  {
   "cell_type": "code",
   "execution_count": 1,
   "metadata": {},
   "outputs": [],
   "source": [
    "import Data\n",
    "import regression\n",
    "import dclassifier\n",
    "import numpy as np\n",
    "import pandas as pd\n",
    "import backtest\n",
    "import Genetic_Algorithm_2\n",
    "import matplotlib.pyplot as plt\n",
    "import pickle"
   ]
  },
  {
   "cell_type": "code",
   "execution_count": 2,
   "metadata": {},
   "outputs": [
    {
     "name": "stdout",
     "output_type": "stream",
     "text": [
      "2000-01      4\n",
      "2000-02     10\n",
      "2000-03     46\n",
      "2000-04    191\n",
      "2000-05    191\n",
      "          ... \n",
      "2019-11      4\n",
      "2019-12     36\n",
      "2020-01     24\n",
      "2020-02      0\n",
      "2020-03     71\n",
      "Freq: M, Length: 243, dtype: int64\n"
     ]
    }
   ],
   "source": [
    "training_months = [pd.Period('2016-04', 'M'), pd.Period('2016-05', 'M'), pd.Period('2016-06', 'M'), pd.Period('2016-07', 'M')]\n",
    "\n",
    "data = Data.Data()\n",
    "\n",
    "prices = data.prices\n",
    "prices = prices[prices.index.to_period('M').isin(training_months)]"
   ]
  },
  {
   "cell_type": "code",
   "execution_count": 3,
   "metadata": {},
   "outputs": [],
   "source": [
    "thresh_USDJPY = [0.017, 0.023, 0.025, 0.027000000000000003, 0.014000000000000002] #0.026\n",
    "thresh_EURCHF = [0.011, 0.012, 0.013000000000000001, 0.010000000000000002, 0.019000000000000003]\n",
    "thresh_EURUSD = [0.022000000000000002, 0.021, 0.020, 0.014000000000000002, 0.018000000000000002]\n",
    "thresh_EURJPY = [0.024, 0.025, 0.026000000000000002, 0.027000000000000003, 0.023]\n",
    "thresh_USDCHF = [0.017, 0.018000000000000002, 0.026000000000000002, 0.029, 0.014000000000000002]\n",
    "thresh_USDCAD = [0.018000000000000002, 0.023, 0.024, 0.021, 0.019000000000000003]\n",
    "combinations_USDJPY = []\n",
    "combinations_EURCHF = []\n",
    "combinations_EURUSD = []\n",
    "combinations_EURJPY = []\n",
    "combinations_USDCHF = []\n",
    "combinations_USDCAD = []\n",
    "\n",
    "for j in thresh_USDJPY:\n",
    "    combinations_USDJPY.append((j, 'USDJPY'))\n",
    "\n",
    "for j in thresh_EURCHF:\n",
    "    combinations_EURCHF.append((j, 'EURCHF'))\n",
    "\n",
    "for j in thresh_EURUSD:\n",
    "    combinations_EURUSD.append((j, 'EURUSD'))\n",
    "\n",
    "for j in thresh_EURJPY:\n",
    "    combinations_EURJPY.append((j, 'EURJPY'))\n",
    "\n",
    "for j in thresh_USDCHF:\n",
    "    combinations_USDCHF.append((j, 'USDCHF'))\n",
    "\n",
    "for j in thresh_USDCAD:\n",
    "    combinations_USDCAD.append((j, 'USDCAD'))"
   ]
  },
  {
   "cell_type": "code",
   "execution_count": 4,
   "metadata": {},
   "outputs": [],
   "source": [
    "def print_node(node):\n",
    "    string = ''\n",
    "    if node.val:\n",
    "        string += (node.val if isinstance(node.val, str) else str(round(node.val, 3)))\n",
    "    if len(node.children):\n",
    "        string += f\" ({' , '.join([print_node(child) for child in node.children])})\"\n",
    "    return string"
   ]
  },
  {
   "cell_type": "code",
   "execution_count": 5,
   "metadata": {},
   "outputs": [
    {
     "name": "stdout",
     "output_type": "stream",
     "text": [
      "/ (/ (- (-7.461 , -0.886) , cos (DCl)) , log (cos (DCl)))\n",
      "+ (+ (/ (9.334 , 4.588) , DCl) , + (/ (DCl , DCl) , / (DCl , 9.334)))\n",
      "/ (+ (- (DCl , DCl) , / (9.61 , -8.651)) , log (sin (DCl)))\n",
      "+ (/ (cos (6.687) , -2.666) , * (sin (0.792) , + (-7.11 , DCl)))\n",
      "/ (+ (sin (DCl) , * (7.817 , 3.711)) , sin (log (DCl)))\n",
      "* (/ (- (DCl , 8.461) , * (2.278 , 8.869)) , / (+ (DCl , 9.848) , * (2.278 , 8.461)))\n",
      "- (sin (+ (-0.397 , -0.397)) , * (6.155 , - (-3.336 , 5.716)))\n",
      "/ (* (cos (-7.583) , + (DCl , 1.232)) , / (* (7.172 , -1.835) , / (DCl , -8.099)))\n",
      "/ (+ (-7.292 , sin (-5.025)) , log (cos (DCl)))\n",
      "- (- (+ (DCl , 7.116) , cos (DCl)) , + (* (DCl , 0.552) , cos (DCl)))\n"
     ]
    }
   ],
   "source": [
    "UJ = {}\n",
    "with open('USDJPY.pkl', \"rb\") as f:\n",
    "    for combination in combinations_USDJPY:\n",
    "        thresh, val = combination\n",
    "        UJ[thresh] = [pickle.load(f)]\n",
    "        print(print_node(UJ[thresh][0]))\n",
    "        UJ[thresh].append(pickle.load(f))\n",
    "        print(print_node(UJ[thresh][1]))\n"
   ]
  },
  {
   "cell_type": "code",
   "execution_count": 6,
   "metadata": {},
   "outputs": [],
   "source": [
    "class e_handler:\n",
    "    def __init__(self, classified_data, theta, regressor) -> None:\n",
    "        #, regressor\n",
    "        self.classified_data = classified_data\n",
    "        self.dc_count = 0\n",
    "        self.detector = None\n",
    "        self.theta = theta\n",
    "        self.regressor = regressor\n",
    "\n",
    "    def reset(self):\n",
    "        self.dc_count = 0\n",
    "        self.detector = None\n",
    "        \n",
    "    \n",
    "    def step(self, price, time):\n",
    "        if self.detector == None:\n",
    "            self.detector = dclassifier.DC_EVENT_DETECTOR(self.theta, time, price)\n",
    "            return [-1, 0]\n",
    "        \n",
    "        self.detector.step(price, time)\n",
    "\n",
    "        #print(len(self.classified_data) , self.detector.get_dc_count())\n",
    "        \n",
    "        # if no new dc_event happend => return 0\n",
    "        if self.dc_count == self.detector.get_dc_count():\n",
    "            return [-1, 0]\n",
    "\n",
    "        # if new dc_event happend\n",
    "        # Will be replaced by the classification algortihm\n",
    "        if self.detector.get_dc_count() == len(self.classified_data) or (self.detector.get_dc_count() - 1) == len(self.classified_data):\n",
    "            return [-1, 0]\n",
    "        \n",
    "        if not self.classified_data.iloc[self.detector.get_dc_count()][\"prev_os\"]:\n",
    "            self.dc_count += 1\n",
    "            return [-1, 0]\n",
    "        #\n",
    "        \n",
    "        dc_data = self.detector.get_dc()[-1]\n",
    "        if dc_data['event_price'] >= 0:\n",
    "            os_length = regression.eval_tree(self.regressor[0], dc_data['event_time'])\n",
    "        #os_end = self.classified_data.iloc[self.detector.get_dc_count()][\"start\"]\n",
    "        #os_start = self.classified_data.iloc[self.detector.get_dc_count() - 1][\"end\"]\n",
    "        else:\n",
    "            os_length = regression.eval_tree(self.regressor[1], dc_data['event_time'])\n",
    "\n",
    "        self.dc_count += 1\n",
    "        \n",
    "        \n",
    "        #return [os_end-os_start, 'Up' if self.classified_data.iloc[self.detector.get_dc_count() - 1]['event_price'] > 0 else 'Down']\n",
    "        \n",
    "        return [os_length, 'Up' if dc_data['event_price'] >= 0 else 'Down']"
   ]
  },
  {
   "cell_type": "code",
   "execution_count": 7,
   "metadata": {},
   "outputs": [],
   "source": [
    "handlers = []\n",
    "currency = \"USDJPY\"\n",
    "for el in thresh_USDJPY:\n",
    "    events, dcclass, classs = dclassifier.classify_split_timeseries(prices[currency], el)\n",
    "    handlers.append(e_handler(events, el, UJ[el]))"
   ]
  },
  {
   "cell_type": "code",
   "execution_count": 8,
   "metadata": {},
   "outputs": [],
   "source": [
    "backtesting_env = backtest.Optimize_eps(prices[currency], thresh_USDJPY, handlers)"
   ]
  },
  {
   "cell_type": "code",
   "execution_count": 9,
   "metadata": {},
   "outputs": [
    {
     "name": "stderr",
     "output_type": "stream",
     "text": [
      "/home/linus/ghq/github.com/linux-03/MTDC/backtest.py:29: RuntimeWarning: invalid value encountered in scalar divide\n",
      "  W = np.dot(weights, rev_points)/np.sum(weights)\n"
     ]
    },
    {
     "name": "stdout",
     "output_type": "stream",
     "text": [
      "vol 0.0 sharpe -inf ann_ret: 0.0 return 0.0 capital 100000\n"
     ]
    },
    {
     "name": "stderr",
     "output_type": "stream",
     "text": [
      "/home/linus/ghq/github.com/linux-03/MTDC/backtest.py:163: RuntimeWarning: divide by zero encountered in scalar divide\n",
      "  return (ret - self.rf_rate)/vol\n"
     ]
    }
   ],
   "source": [
    "l = backtesting_env.evaluate([1, 0, 0, 0, 0])"
   ]
  },
  {
   "cell_type": "code",
   "execution_count": 10,
   "metadata": {},
   "outputs": [
    {
     "data": {
      "text/plain": [
       "0       100000\n",
       "1       100000\n",
       "2       100000\n",
       "3       100000\n",
       "4       100000\n",
       "         ...  \n",
       "8251    100000\n",
       "8252    100000\n",
       "8253    100000\n",
       "8254    100000\n",
       "8255    100000\n",
       "Length: 8256, dtype: int64"
      ]
     },
     "execution_count": 10,
     "metadata": {},
     "output_type": "execute_result"
    }
   ],
   "source": [
    "backtesting_env.hist"
   ]
  },
  {
   "cell_type": "code",
   "execution_count": null,
   "metadata": {},
   "outputs": [],
   "source": []
  }
 ],
 "metadata": {
  "kernelspec": {
   "display_name": "vutis",
   "language": "python",
   "name": "python3"
  },
  "language_info": {
   "codemirror_mode": {
    "name": "ipython",
    "version": 3
   },
   "file_extension": ".py",
   "mimetype": "text/x-python",
   "name": "python",
   "nbconvert_exporter": "python",
   "pygments_lexer": "ipython3",
   "version": "3.9.19"
  }
 },
 "nbformat": 4,
 "nbformat_minor": 2
}
